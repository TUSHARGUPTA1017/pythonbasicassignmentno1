{
 "cells": [
  {
   "cell_type": "markdown",
   "id": "daee7da6",
   "metadata": {},
   "source": [
    "1. In the below elements which of them are values or an expression? eg:- values can be\n",
    "integer or string and expressions will be mathematical operators.\n",
    "*\n",
    "hello\n",
    "-87.8\n",
    "-\n",
    "/\n",
    "+\n",
    "6"
   ]
  },
  {
   "cell_type": "markdown",
   "id": "022be016",
   "metadata": {},
   "source": [
    "values :- hello , -87.8,6\n",
    "expression:- *,-,/,+"
   ]
  },
  {
   "cell_type": "markdown",
   "id": "3af426a8",
   "metadata": {},
   "source": [
    "2. What is the difference between string and variable?\n",
    "\n",
    "variable are kind of entity which help you out to hold your data inside your main memory or ram \n",
    "in variable we store data and that data may be in any form weather its string or int or boolean etc and variable which we take \n",
    "it may be a single character or no of chracter single character like a and no of chracter like name tushar\n",
    "\n",
    "whereas,\n",
    "\n",
    "string represent type of data store in vriable basically a series of characters or when we have no characters thats called a \n",
    "string and we can easily convert or do type casting by just enclosed any group of data or group of no in \"\".\n",
    "\n",
    "ex :-\n",
    "    a = \"tushar\"\n",
    "here a = variable \n",
    " tushar = string\n",
    "    \n",
    "    similarly b = \"12345\"\n",
    "     b = variable\n",
    "  12345 = string\n",
    "\n",
    "\n",
    "\n",
    "\n",
    "\n"
   ]
  },
  {
   "cell_type": "markdown",
   "id": "6b1da78b",
   "metadata": {},
   "source": [
    "3. Describe three different data types.\n",
    "\n",
    "1) integer or we say numeri data type it is used to store numbers withought a fractional component\n",
    "2) float data type it is used to store numbers with decimal\n",
    "3) boolean data type it is used to store data in form of true and false\n",
    "\n"
   ]
  },
  {
   "cell_type": "markdown",
   "id": "f85b6fcf",
   "metadata": {},
   "source": [
    "After running the following code, what does the variable bacon contain?\n",
    "bacon = 22\n",
    "bacon + 1"
   ]
  },
  {
   "cell_type": "code",
   "execution_count": 2,
   "id": "1b2d1852",
   "metadata": {},
   "outputs": [
    {
     "name": "stdout",
     "output_type": "stream",
     "text": [
      "23\n"
     ]
    }
   ],
   "source": [
    "baccon = 22\n",
    "print(baccon+1)"
   ]
  },
  {
   "cell_type": "code",
   "execution_count": 3,
   "id": "8413f46a",
   "metadata": {},
   "outputs": [
    {
     "data": {
      "text/plain": [
       "22"
      ]
     },
     "execution_count": 3,
     "metadata": {},
     "output_type": "execute_result"
    }
   ],
   "source": [
    "baccon contain 22"
   ]
  },
  {
   "cell_type": "markdown",
   "id": "fb4b9b9f",
   "metadata": {},
   "source": [
    "What should the values of the following two terms be?\n",
    "spam + spamspam\n",
    "spam * 3"
   ]
  },
  {
   "cell_type": "code",
   "execution_count": 5,
   "id": "4c11328e",
   "metadata": {},
   "outputs": [
    {
     "data": {
      "text/plain": [
       "'spamspam'"
      ]
     },
     "execution_count": 5,
     "metadata": {},
     "output_type": "execute_result"
    }
   ],
   "source": [
    "'spam' + 'spam'"
   ]
  },
  {
   "cell_type": "code",
   "execution_count": 6,
   "id": "92acef01",
   "metadata": {},
   "outputs": [
    {
     "data": {
      "text/plain": [
       "'spamspamspam'"
      ]
     },
     "execution_count": 6,
     "metadata": {},
     "output_type": "execute_result"
    }
   ],
   "source": [
    "'spam'*3"
   ]
  },
  {
   "cell_type": "markdown",
   "id": "9b837b64",
   "metadata": {},
   "source": [
    "8. Why is eggs a valid variable name while 100 is invalid?\n",
    "\n",
    "as we know variable name cannot begin with number as it must start with letter or the underscore chractare as it only contain alpha nnumeric chracters and underscores and also variable name are case sensitive \n"
   ]
  },
  {
   "cell_type": "markdown",
   "id": "4101670d",
   "metadata": {},
   "source": [
    "q9 : - What three functions can be used to get the integer, floating-point number, or string\n",
    "version of a value?\n",
    "\n",
    "ans : - for integer :- int()\n",
    "        for float point no :- float()\n",
    "        for string :- str()"
   ]
  },
  {
   "cell_type": "code",
   "execution_count": 9,
   "id": "57db4bfb",
   "metadata": {},
   "outputs": [
    {
     "name": "stdout",
     "output_type": "stream",
     "text": [
      "12345\n"
     ]
    }
   ],
   "source": [
    "ex 1 :- a = \"12345\"\n",
    "print(int(a))"
   ]
  },
  {
   "cell_type": "code",
   "execution_count": 17,
   "id": "9a137ea4",
   "metadata": {},
   "outputs": [
    {
     "name": "stdout",
     "output_type": "stream",
     "text": [
      "a= <class 'int'>\n",
      "b = <class 'str'>\n"
     ]
    }
   ],
   "source": [
    "a = 1234\n",
    "print(\"a=\",type(a))\n",
    "b = str(a)\n",
    "print(\"b =\" , type(b))\n",
    "    "
   ]
  },
  {
   "cell_type": "code",
   "execution_count": 18,
   "id": "9bb4ed2f",
   "metadata": {},
   "outputs": [
    {
     "name": "stdout",
     "output_type": "stream",
     "text": [
      "<class 'float'>\n"
     ]
    }
   ],
   "source": [
    "a = 1223.678\n",
    "print(type(a))"
   ]
  },
  {
   "cell_type": "code",
   "execution_count": null,
   "id": "fa7cc0b2",
   "metadata": {},
   "outputs": [],
   "source": [
    "10. Why does this expression cause an error? How can you fix it?\n",
    "\"I have eaten\" + 99 + \" burritos\"    :-  the problem is \" \" as between two string there is one int and we cant add str and int \n",
    "                                         simontaneously so either we convert or do type casting of str into int or int into str"
   ]
  },
  {
   "cell_type": "code",
   "execution_count": 19,
   "id": "5d0db576",
   "metadata": {},
   "outputs": [
    {
     "data": {
      "text/plain": [
       "'I have eaten99 burritos'"
      ]
     },
     "execution_count": 19,
     "metadata": {},
     "output_type": "execute_result"
    }
   ],
   "source": [
    "\"I have eaten\" + \"99\" + \" burritos\""
   ]
  },
  {
   "cell_type": "markdown",
   "id": "4c617e12",
   "metadata": {},
   "source": [
    "4. What is an expression made up of? What do all expressions do?\n",
    "\n",
    "expression is any kind of combinattion of literalls values(5,10.0,true) ,arithmetic  operators , boolean operators(true,false)\n",
    "variables any value is expression even expression is made up of expression"
   ]
  },
  {
   "cell_type": "code",
   "execution_count": null,
   "id": "d0836ce9",
   "metadata": {},
   "outputs": [],
   "source": [
    "This assignment statements, like spam = 10. What is the difference between an\n",
    "expression and a statement?\n",
    "\n",
    "\n",
    "expression is any kind of combinattion of literalls values(5,10.0,true) ,arithmetic  operators , boolean operators(true,false)\n",
    "variables any value is expression even expression is made up of expression\n",
    "\n",
    "a single line of code is called as statement , a programme is made up of sequence of statements."
   ]
  },
  {
   "cell_type": "code",
   "execution_count": null,
   "id": "7ae99fc1",
   "metadata": {},
   "outputs": [],
   "source": []
  },
  {
   "cell_type": "code",
   "execution_count": null,
   "id": "7a557753",
   "metadata": {},
   "outputs": [],
   "source": []
  }
 ],
 "metadata": {
  "kernelspec": {
   "display_name": "Python 3 (ipykernel)",
   "language": "python",
   "name": "python3"
  },
  "language_info": {
   "codemirror_mode": {
    "name": "ipython",
    "version": 3
   },
   "file_extension": ".py",
   "mimetype": "text/x-python",
   "name": "python",
   "nbconvert_exporter": "python",
   "pygments_lexer": "ipython3",
   "version": "3.9.7"
  }
 },
 "nbformat": 4,
 "nbformat_minor": 5
}
